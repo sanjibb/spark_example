{
  "nbformat": 4,
  "nbformat_minor": 0,
  "metadata": {
    "colab": {
      "name": "Spark_Knn.ipynb",
      "provenance": [],
      "include_colab_link": true
    },
    "kernelspec": {
      "name": "python3",
      "display_name": "Python 3"
    }
  },
  "cells": [
    {
      "cell_type": "markdown",
      "metadata": {
        "id": "view-in-github",
        "colab_type": "text"
      },
      "source": [
        "<a href=\"https://colab.research.google.com/github/sanjibb/spark_example/blob/master/Spark_Knn.ipynb\" target=\"_parent\"><img src=\"https://colab.research.google.com/assets/colab-badge.svg\" alt=\"Open In Colab\"/></a>"
      ]
    },
    {
      "cell_type": "markdown",
      "metadata": {
        "id": "5aQRVsHBSQLe",
        "colab_type": "text"
      },
      "source": [
        "This Notebook shows an example of pySpark Knn Model. This has been integrated with sklearn."
      ]
    },
    {
      "cell_type": "code",
      "metadata": {
        "id": "HQW2RW9LSEvP",
        "colab_type": "code",
        "colab": {}
      },
      "source": [
        "%pyspark\n",
        "from pyspark import SparkConf\n",
        "from sklearn.neighbors import NearestNeighbors\n",
        "from sklearn.neighbors import KNeighborsClassifier\n",
        "knn= KNeighborsClassifier()\n",
        "import pandas as pd\n",
        "import sklearn\n",
        "#knn.fit(X_train,y_train)\n",
        "\n",
        "print('The pandas version is {}.'.format(pd.__version__))\n",
        "print('The scikit-learn version is {}.'.format(sklearn.__version__))\n",
        "\n",
        "url = 'https://ibm.box.com/shared/static/teo1syd2k4wwyfswg1slfhdn7u5a0b9l.txt'\n",
        "col_names = (['Label', 'I1', 'I2', 'I3', 'I4', 'I5', 'I6', 'I7', 'I8', 'I9', 'I10', 'I11', 'I12', 'I13',\n",
        "             'C1', 'C2', 'C3', 'C4', 'C5', 'C6', 'C7', 'C8', 'C9', 'C10', 'C11', 'C12', 'C13',\n",
        "             'C14', 'C15', 'C16', 'C17', 'C18', 'C19', 'C20', 'C21', 'C22', 'C23', 'C24', 'C25', 'C26'])\n",
        "data_df = pd.read_table(url,sep='\\t', header=None, names=col_names)\n"
      ],
      "execution_count": 0,
      "outputs": []
    },
    {
      "cell_type": "markdown",
      "metadata": {
        "id": "1x-tXkODSk9W",
        "colab_type": "text"
      },
      "source": [
        "Bring dataframe from sql"
      ]
    },
    {
      "cell_type": "code",
      "metadata": {
        "id": "XVw7QLu3SshJ",
        "colab_type": "code",
        "colab": {}
      },
      "source": [
        "%pyspark\n",
        "\n",
        "from pyspark.sql import *\n",
        "from pyspark.sql import SQLContext\n",
        "sqlContext = SQLContext(sc)\n",
        "\n",
        "#provinfo1 = sqlContext.sql(\"\"\"select asrpt_type_cd,subj_geo_state_cd,asrpt_cst_amt  from fps2_models.asrpt where asrpt_cst_amt is not null limit 100\"\"\")\n",
        "provinfo2 = sqlContext.sql(\"\"\"select case when asrpt_cst_amt > 100000 then 1 else 0 end label from fps2_models.asrpt where asrpt_cst_amt is not null \"\"\")\n",
        "#provinfo1.show(10)\n",
        "#provinfo2.show(10)"
      ],
      "execution_count": 0,
      "outputs": []
    },
    {
      "cell_type": "markdown",
      "metadata": {
        "id": "n5TUFnsOS5x5",
        "colab_type": "text"
      },
      "source": [
        "Use string indexer to make categorical variables to numeric"
      ]
    },
    {
      "cell_type": "code",
      "metadata": {
        "id": "ENF2FPYhTDHX",
        "colab_type": "code",
        "colab": {}
      },
      "source": [
        "from pyspark.ml.feature import IndexToString, StringIndexer\n",
        "\n",
        "df = sqlContext.sql(\"\"\"select asrpt_id as id,subj_geo_state_cd as category,asrpt_cst_amt  from  fps2_models.asrpt where asrpt_cst_amt is not null\"\"\")\n",
        "\n",
        "indexer = StringIndexer(inputCol=\"category\", outputCol=\"categoryIndex\")\n",
        "model = indexer.fit(df)\n",
        "indexed = model.transform(df)\n",
        "\n",
        "print(\"Transformed string column '%s' to indexed column '%s'\"\n",
        "      % (indexer.getInputCol(), indexer.getOutputCol()))\n",
        "indexed.show()\n",
        "\n",
        "#print(\"StringIndexer will store labels in output column metadata\\n\")\n",
        "\n",
        "#converter = IndexToString(inputCol=\"categoryIndex\", outputCol=\"originalCategory\")\n",
        "#converted = converter.transform(indexed)\n",
        "\n",
        "#print(\"Transformed indexed column '%s' back to original string column '%s' using \"\n",
        "#      \"labels in metadata\" % (converter.getInputCol(), converter.getOutputCol()))\n",
        "#converted.select(\"id\", \"categoryIndex\", \"originalCategory\").show()\n",
        "\n",
        "feature = indexed.select(\"id\",\"asrpt_cst_amt\",\"categoryIndex\")\n"
      ],
      "execution_count": 0,
      "outputs": []
    },
    {
      "cell_type": "markdown",
      "metadata": {
        "id": "lV83v2iXTM3i",
        "colab_type": "text"
      },
      "source": [
        "Use Encoder for categorical transformation to numeric"
      ]
    },
    {
      "cell_type": "code",
      "metadata": {
        "id": "0ZS7GEifTXWo",
        "colab_type": "code",
        "colab": {}
      },
      "source": [
        "from pyspark.ml.feature import OneHotEncoderEstimator\n",
        "encoder = OneHotEncoderEstimator(inputCols=[\"id\", \"categoryIndex\"],\n",
        "                                 outputCols=[\"idx\", \"categoryVec2\"])\n",
        "model = encoder.fit(indexed)\n",
        "encoded = model.transform(indexed)\n",
        "encoded.show()"
      ],
      "execution_count": 0,
      "outputs": []
    },
    {
      "cell_type": "markdown",
      "metadata": {
        "id": "IlScorBgW3zG",
        "colab_type": "text"
      },
      "source": [
        "Make list with feature and label column"
      ]
    },
    {
      "cell_type": "code",
      "metadata": {
        "id": "U7veoMJCXjb5",
        "colab_type": "code",
        "colab": {}
      },
      "source": [
        "X = [list(row) for row in feature.collect()]\n",
        "y = [list(row) for row in provinfo2.collect()]\n",
        "\n",
        "print(len(X))\n",
        "print(len(y))"
      ],
      "execution_count": 0,
      "outputs": []
    },
    {
      "cell_type": "code",
      "metadata": {
        "id": "-IPBMBnQXuVG",
        "colab_type": "code",
        "colab": {}
      },
      "source": [
        ""
      ],
      "execution_count": 0,
      "outputs": []
    },
    {
      "cell_type": "markdown",
      "metadata": {
        "id": "JvbcqWTzXxaj",
        "colab_type": "text"
      },
      "source": [
        "Bring train_test_split function"
      ]
    },
    {
      "cell_type": "code",
      "metadata": {
        "id": "BQkl7wIZXmrf",
        "colab_type": "code",
        "colab": {}
      },
      "source": [
        "%pyspark\n",
        "from sklearn.model_selection import train_test_split\n",
        "X_train, X_test, y_train, y_test = train_test_split(X,y, train_size=0.8, random_state=0)\n",
        "\n"
      ],
      "execution_count": 0,
      "outputs": []
    },
    {
      "cell_type": "markdown",
      "metadata": {
        "id": "6i5nSZn-YF3P",
        "colab_type": "text"
      },
      "source": [
        "Print number of rows for Train and Test Dataset"
      ]
    },
    {
      "cell_type": "code",
      "metadata": {
        "id": "oukdA2SfX4cd",
        "colab_type": "code",
        "colab": {}
      },
      "source": [
        "print('Number of rows in X_train is {}.'.format(len(X_train)))\n",
        "print('Number of rows in X_test is {}.'.format(len(X_test)))\n",
        "print('Number of rows in y_train is {}.'.format(len(y_train)))\n",
        "print('Number of rows in y_test is {}.'.format(len(y_test)))"
      ],
      "execution_count": 0,
      "outputs": []
    },
    {
      "cell_type": "markdown",
      "metadata": {
        "id": "_klE6c0-YXO5",
        "colab_type": "text"
      },
      "source": [
        "Call Knn Classifier"
      ]
    },
    {
      "cell_type": "code",
      "metadata": {
        "id": "HIQL9-82YPHn",
        "colab_type": "code",
        "colab": {}
      },
      "source": [
        "from sklearn.metrics import accuracy_score, confusion_matrix, roc_curve, roc_auc_score\n",
        "from sklearn.neighbors import KNeighborsClassifier\n",
        "# K=5 for KNN (the n_neighbors parameter)\n",
        "\n",
        "knn = KNeighborsClassifier(n_neighbors=5)\n",
        "knn.fit(X_train, y_train)\n",
        "y_pred = knn.predict(X_test)\n",
        "\n",
        "print('Accuracy score using k-nearest neighbor = {}'.format(accuracy_score(y_test,y_pred)))\n",
        "print('AUC percentage using k-nearest neighbor = {}'.format(roc_auc_score(y_test,y_pred)))"
      ],
      "execution_count": 0,
      "outputs": []
    }
  ]
}